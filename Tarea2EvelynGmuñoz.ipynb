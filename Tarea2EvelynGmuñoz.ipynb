{
  "cells": [
    {
      "attachments": {},
      "cell_type": "markdown",
      "id": "c26f5603",
      "metadata": {
        "id": "c26f5603"
      },
      "source": [
        "Librerias"
      ]
    },
    {
      "cell_type": "code",
      "execution_count": 6,
      "id": "6087cd49",
      "metadata": {
        "id": "6087cd49"
      },
      "outputs": [],
      "source": [
        "import pandas as pd\n",
        "from zipfile import ZipFile"
      ]
    },
    {
      "cell_type": "code",
      "execution_count": 5,
      "id": "ad9b8d60",
      "metadata": {
        "colab": {
          "base_uri": "https://localhost:8080/",
          "height": 217
        },
        "id": "ad9b8d60",
        "outputId": "e1137452-eeb5-4a8e-d979-f94b5225ff28"
      },
      "outputs": [
        {
          "name": "stdout",
          "output_type": "stream",
          "text": [
            "['test.csv', 'train.csv']\n"
          ]
        }
      ],
      "source": [
        "# Ver archivos de la carpeta\n",
        "import os\n",
        "\n",
        "ruta = \"/Users/gabyt/OneDrive/Documentos/Trabajos UL/2023-2/IA/spaceship-titanic(1)\"\n",
        "archivos = os.listdir(ruta)\n",
        "print(archivos)\n"
      ]
    },
    {
      "cell_type": "code",
      "execution_count": 7,
      "id": "da08f890",
      "metadata": {
        "id": "da08f890"
      },
      "outputs": [],
      "source": [
        "# para extraer de la carpeta\n",
        "def unzip_data(path):\n",
        "    with ZipFile(path, 'r') as zipObj:\n",
        "        zipObj.extractall()"
      ]
    },
    {
      "cell_type": "code",
      "execution_count": 8,
      "id": "1d74918b",
      "metadata": {
        "id": "1d74918b"
      },
      "outputs": [],
      "source": [
        "from zipfile import ZipFile\n",
        "\n",
        "def unzip_data(path):\n",
        "    with ZipFile(path, 'r') as zipObj:\n",
        "        zipObj.extractall()\n",
        "\n",
        "ruta_zip = \"/Users/gabyt/OneDrive/Documentos/Trabajos UL/2023-2/IA/spaceship-titanic(1).zip\"\n",
        "\n",
        "# para descomprimir un zip\n",
        "unzip_data(ruta_zip)\n"
      ]
    },
    {
      "attachments": {},
      "cell_type": "markdown",
      "id": "e8d4b085",
      "metadata": {
        "id": "e8d4b085"
      },
      "source": [
        " leer el archivo de training y el test set"
      ]
    },
    {
      "cell_type": "code",
      "execution_count": 9,
      "id": "0776a836",
      "metadata": {
        "colab": {
          "base_uri": "https://localhost:8080/",
          "height": 380
        },
        "id": "0776a836",
        "outputId": "dd1f5cbd-66ef-40ea-df7f-af487a4a94b5"
      },
      "outputs": [],
      "source": [
        "\n",
        "import pandas as pd\n",
        "\n",
        "ruta_train = \"/Users/gabyt/OneDrive/Documentos/Trabajos UL/2023-2/IA/spaceship-titanic(1)/train.csv\"\n",
        "ruta_test = \"/Users/gabyt/OneDrive/Documentos/Trabajos UL/2023-2/IA/spaceship-titanic(1)/test.csv\"\n",
        "\n",
        "train_ds = pd.read_csv(ruta_train)\n",
        "test_ds = pd.read_csv(ruta_test)\n"
      ]
    },
    {
      "attachments": {},
      "cell_type": "markdown",
      "id": "8c8baee6",
      "metadata": {
        "id": "8c8baee6"
      },
      "source": [
        "primeras 5 líneas del archivo de training"
      ]
    },
    {
      "cell_type": "code",
      "execution_count": 10,
      "id": "cfb3ae88",
      "metadata": {
        "colab": {
          "base_uri": "https://localhost:8080/"
        },
        "id": "cfb3ae88",
        "outputId": "1ea5cd95-43ba-4ec3-f706-a831b213ce9d"
      },
      "outputs": [
        {
          "name": "stdout",
          "output_type": "stream",
          "text": [
            "  PassengerId HomePlanet CryoSleep  Cabin  Destination   Age    VIP  \\\n",
            "0     0001_01     Europa     False  B/0/P  TRAPPIST-1e  39.0  False   \n",
            "1     0002_01      Earth     False  F/0/S  TRAPPIST-1e  24.0  False   \n",
            "2     0003_01     Europa     False  A/0/S  TRAPPIST-1e  58.0   True   \n",
            "3     0003_02     Europa     False  A/0/S  TRAPPIST-1e  33.0  False   \n",
            "4     0004_01      Earth     False  F/1/S  TRAPPIST-1e  16.0  False   \n",
            "\n",
            "   RoomService  FoodCourt  ShoppingMall     Spa  VRDeck               Name  \\\n",
            "0          0.0        0.0           0.0     0.0     0.0    Maham Ofracculy   \n",
            "1        109.0        9.0          25.0   549.0    44.0       Juanna Vines   \n",
            "2         43.0     3576.0           0.0  6715.0    49.0      Altark Susent   \n",
            "3          0.0     1283.0         371.0  3329.0   193.0       Solam Susent   \n",
            "4        303.0       70.0         151.0   565.0     2.0  Willy Santantines   \n",
            "\n",
            "   Transported  \n",
            "0        False  \n",
            "1         True  \n",
            "2        False  \n",
            "3        False  \n",
            "4         True  \n"
          ]
        }
      ],
      "source": [
        "print(train_ds.head())"
      ]
    },
    {
      "cell_type": "code",
      "execution_count": 11,
      "id": "51ca1ee5",
      "metadata": {
        "colab": {
          "base_uri": "https://localhost:8080/"
        },
        "id": "51ca1ee5",
        "outputId": "16ec2eae-79d8-4786-9ae4-97fb6c61b1ec"
      },
      "outputs": [
        {
          "name": "stdout",
          "output_type": "stream",
          "text": [
            "  PassengerId HomePlanet CryoSleep  Cabin  Destination   Age    VIP  \\\n",
            "0     0013_01      Earth      True  G/3/S  TRAPPIST-1e  27.0  False   \n",
            "1     0018_01      Earth     False  F/4/S  TRAPPIST-1e  19.0  False   \n",
            "2     0019_01     Europa      True  C/0/S  55 Cancri e  31.0  False   \n",
            "3     0021_01     Europa     False  C/1/S  TRAPPIST-1e  38.0  False   \n",
            "4     0023_01      Earth     False  F/5/S  TRAPPIST-1e  20.0  False   \n",
            "\n",
            "   RoomService  FoodCourt  ShoppingMall     Spa  VRDeck              Name  \n",
            "0          0.0        0.0           0.0     0.0     0.0   Nelly Carsoning  \n",
            "1          0.0        9.0           0.0  2823.0     0.0    Lerome Peckers  \n",
            "2          0.0        0.0           0.0     0.0     0.0   Sabih Unhearfus  \n",
            "3          0.0     6652.0           0.0   181.0   585.0  Meratz Caltilter  \n",
            "4         10.0        0.0         635.0     0.0     0.0   Brence Harperez  \n"
          ]
        }
      ],
      "source": [
        "print(test_ds.head())"
      ]
    },
    {
      "attachments": {},
      "cell_type": "markdown",
      "id": "183cce18",
      "metadata": {
        "id": "183cce18"
      },
      "source": [
        "datos de training y de test "
      ]
    },
    {
      "cell_type": "code",
      "execution_count": 12,
      "id": "b901ebe0",
      "metadata": {
        "colab": {
          "base_uri": "https://localhost:8080/"
        },
        "id": "b901ebe0",
        "outputId": "b8ce6d15-c4a0-437d-f84f-a8ef282edc32"
      },
      "outputs": [
        {
          "name": "stdout",
          "output_type": "stream",
          "text": [
            "Dataset has 8693 train samples\n",
            "Dataset has 4277 test samples\n"
          ]
        }
      ],
      "source": [
        "ntrain = train_ds.shape[0]\n",
        "ntest = test_ds.shape[0]\n",
        "\n",
        "print(f'Dataset has {ntrain} train samples')\n",
        "print(f'Dataset has {ntest} test samples')\n"
      ]
    },
    {
      "attachments": {},
      "cell_type": "markdown",
      "id": "ccc36c72",
      "metadata": {
        "id": "ccc36c72"
      },
      "source": [
        "tipo de datos del dataset"
      ]
    },
    {
      "cell_type": "code",
      "execution_count": 13,
      "id": "e641ce25",
      "metadata": {
        "colab": {
          "base_uri": "https://localhost:8080/"
        },
        "id": "e641ce25",
        "outputId": "f263f843-a822-4a47-ca43-85fc5ac8e135"
      },
      "outputs": [
        {
          "name": "stdout",
          "output_type": "stream",
          "text": [
            "<class 'pandas.core.frame.DataFrame'>\n",
            "RangeIndex: 8693 entries, 0 to 8692\n",
            "Data columns (total 14 columns):\n",
            " #   Column        Non-Null Count  Dtype  \n",
            "---  ------        --------------  -----  \n",
            " 0   PassengerId   8693 non-null   object \n",
            " 1   HomePlanet    8492 non-null   object \n",
            " 2   CryoSleep     8476 non-null   object \n",
            " 3   Cabin         8494 non-null   object \n",
            " 4   Destination   8511 non-null   object \n",
            " 5   Age           8514 non-null   float64\n",
            " 6   VIP           8490 non-null   object \n",
            " 7   RoomService   8512 non-null   float64\n",
            " 8   FoodCourt     8510 non-null   float64\n",
            " 9   ShoppingMall  8485 non-null   float64\n",
            " 10  Spa           8510 non-null   float64\n",
            " 11  VRDeck        8505 non-null   float64\n",
            " 12  Name          8493 non-null   object \n",
            " 13  Transported   8693 non-null   bool   \n",
            "dtypes: bool(1), float64(6), object(7)\n",
            "memory usage: 891.5+ KB\n",
            "<class 'pandas.core.frame.DataFrame'>\n",
            "RangeIndex: 4277 entries, 0 to 4276\n",
            "Data columns (total 13 columns):\n",
            " #   Column        Non-Null Count  Dtype  \n",
            "---  ------        --------------  -----  \n",
            " 0   PassengerId   4277 non-null   object \n",
            " 1   HomePlanet    4190 non-null   object \n",
            " 2   CryoSleep     4184 non-null   object \n",
            " 3   Cabin         4177 non-null   object \n",
            " 4   Destination   4185 non-null   object \n",
            " 5   Age           4186 non-null   float64\n",
            " 6   VIP           4184 non-null   object \n",
            " 7   RoomService   4195 non-null   float64\n",
            " 8   FoodCourt     4171 non-null   float64\n",
            " 9   ShoppingMall  4179 non-null   float64\n",
            " 10  Spa           4176 non-null   float64\n",
            " 11  VRDeck        4197 non-null   float64\n",
            " 12  Name          4183 non-null   object \n",
            "dtypes: float64(6), object(7)\n",
            "memory usage: 434.5+ KB\n"
          ]
        }
      ],
      "source": [
        "train_ds.info()\n",
        "\n",
        "test_ds.info()"
      ]
    },
    {
      "attachments": {},
      "cell_type": "markdown",
      "id": "6b312b93",
      "metadata": {
        "id": "6b312b93"
      },
      "source": [
        "valores nulos"
      ]
    },
    {
      "cell_type": "code",
      "execution_count": 14,
      "id": "809c956e",
      "metadata": {
        "colab": {
          "base_uri": "https://localhost:8080/"
        },
        "id": "809c956e",
        "outputId": "359e1336-facf-46bf-f44e-63d1efc0f383"
      },
      "outputs": [
        {
          "name": "stdout",
          "output_type": "stream",
          "text": [
            "Campos nulos en el training set:\n",
            "PassengerId       0\n",
            "HomePlanet      201\n",
            "CryoSleep       217\n",
            "Cabin           199\n",
            "Destination     182\n",
            "Age             179\n",
            "VIP             203\n",
            "RoomService     181\n",
            "FoodCourt       183\n",
            "ShoppingMall    208\n",
            "Spa             183\n",
            "VRDeck          188\n",
            "Name            200\n",
            "Transported       0\n",
            "dtype: int64\n"
          ]
        }
      ],
      "source": [
        "null_counts_train = train_ds.isnull().sum()\n",
        "\n",
        "print(\"Campos nulos en el training set:\")\n",
        "print(null_counts_train)"
      ]
    },
    {
      "cell_type": "code",
      "execution_count": 15,
      "id": "356fb63a",
      "metadata": {
        "id": "356fb63a"
      },
      "outputs": [],
      "source": [
        "def impute_most_frequent_data(df):\n",
        "    for column_name in df.columns:\n",
        "        data = df[column_name].value_counts().index[0]\n",
        "        df[column_name].fillna(data, inplace=True)\n",
        "    return df\n"
      ]
    },
    {
      "cell_type": "code",
      "execution_count": 16,
      "id": "895be45a",
      "metadata": {
        "colab": {
          "base_uri": "https://localhost:8080/"
        },
        "id": "895be45a",
        "outputId": "2d30de2a-ae90-408f-b62f-6e51c8a9350a"
      },
      "outputs": [
        {
          "name": "stdout",
          "output_type": "stream",
          "text": [
            "  PassengerId HomePlanet  CryoSleep  Cabin  Destination   Age    VIP  \\\n",
            "0     0001_01     Europa      False  B/0/P  TRAPPIST-1e  39.0  False   \n",
            "1     0002_01      Earth      False  F/0/S  TRAPPIST-1e  24.0  False   \n",
            "2     0003_01     Europa      False  A/0/S  TRAPPIST-1e  58.0   True   \n",
            "3     0003_02     Europa      False  A/0/S  TRAPPIST-1e  33.0  False   \n",
            "4     0004_01      Earth      False  F/1/S  TRAPPIST-1e  16.0  False   \n",
            "\n",
            "   RoomService  FoodCourt  ShoppingMall     Spa  VRDeck               Name  \\\n",
            "0          0.0        0.0           0.0     0.0     0.0    Maham Ofracculy   \n",
            "1        109.0        9.0          25.0   549.0    44.0       Juanna Vines   \n",
            "2         43.0     3576.0           0.0  6715.0    49.0      Altark Susent   \n",
            "3          0.0     1283.0         371.0  3329.0   193.0       Solam Susent   \n",
            "4        303.0       70.0         151.0   565.0     2.0  Willy Santantines   \n",
            "\n",
            "   Transported  \n",
            "0        False  \n",
            "1         True  \n",
            "2        False  \n",
            "3        False  \n",
            "4         True  \n"
          ]
        }
      ],
      "source": [
        "train_ds = impute_most_frequent_data(train_ds)\n",
        "\n",
        "print(train_ds.head())"
      ]
    },
    {
      "attachments": {},
      "cell_type": "markdown",
      "id": "a3303f55",
      "metadata": {
        "id": "a3303f55"
      },
      "source": [
        "valores nulos"
      ]
    },
    {
      "cell_type": "code",
      "execution_count": 17,
      "id": "cd8d11d6",
      "metadata": {
        "colab": {
          "base_uri": "https://localhost:8080/"
        },
        "id": "cd8d11d6",
        "outputId": "80d0d573-da43-483c-a320-ced3464c3118"
      },
      "outputs": [
        {
          "name": "stdout",
          "output_type": "stream",
          "text": [
            "Campos nulos en el training set después de la imputación:\n",
            "PassengerId     0\n",
            "HomePlanet      0\n",
            "CryoSleep       0\n",
            "Cabin           0\n",
            "Destination     0\n",
            "Age             0\n",
            "VIP             0\n",
            "RoomService     0\n",
            "FoodCourt       0\n",
            "ShoppingMall    0\n",
            "Spa             0\n",
            "VRDeck          0\n",
            "Name            0\n",
            "Transported     0\n",
            "dtype: int64\n"
          ]
        }
      ],
      "source": [
        "null_counts_train = train_ds.isnull().sum()\n",
        "\n",
        "print(\"Campos nulos en el training set después de la imputación:\")\n",
        "print(null_counts_train)\n"
      ]
    },
    {
      "attachments": {},
      "cell_type": "markdown",
      "id": "a1224b3d",
      "metadata": {
        "id": "a1224b3d"
      },
      "source": [
        "columnas HomePlanet y VIP"
      ]
    },
    {
      "cell_type": "code",
      "execution_count": 18,
      "id": "13677ec7",
      "metadata": {
        "colab": {
          "base_uri": "https://localhost:8080/"
        },
        "id": "13677ec7",
        "outputId": "593800dc-d888-4745-a3dc-15170224dc2c"
      },
      "outputs": [
        {
          "name": "stdout",
          "output_type": "stream",
          "text": [
            "HomePlanet  VIP  \n",
            "Earth       False      0\n",
            "            True       5\n",
            "Europa      False      0\n",
            "            True     131\n",
            "Mars        False      0\n",
            "            True      63\n",
            "Name: VIP, dtype: int64\n"
          ]
        }
      ],
      "source": [
        "home_planet_vs_vip = train_ds.groupby(['HomePlanet', 'VIP'])['VIP'].sum()\n",
        "\n",
        "print(home_planet_vs_vip)"
      ]
    },
    {
      "attachments": {},
      "cell_type": "markdown",
      "id": "38c96caf",
      "metadata": {
        "id": "38c96caf"
      },
      "source": [
        "gráfico de barras "
      ]
    },
    {
      "cell_type": "code",
      "execution_count": 19,
      "id": "97f75a77",
      "metadata": {
        "colab": {
          "base_uri": "https://localhost:8080/",
          "height": 495
        },
        "id": "97f75a77",
        "outputId": "202c3c52-a029-4818-b5c9-b105a31a2c7a"
      },
      "outputs": [
        {
          "name": "stderr",
          "output_type": "stream",
          "text": [
            "C:\\Users\\gabyt\\AppData\\Local\\Temp\\ipykernel_2536\\2616335822.py:11: UserWarning: FixedFormatter should only be used together with FixedLocator\n",
            "  ax.set_xticklabels(home_planet_vs_vip.index.get_level_values('HomePlanet'), rotation=45)\n"
          ]
        },
        {
          "data": {
            "image/png": "[encoded data removed]",
            "text/plain": [
              "<Figure size 640x480 with 1 Axes>"
            ]
          },
          "metadata": {},
          "output_type": "display_data"
        }
      ],
      "source": [
        "# Genere un grafico de barras donde\n",
        "# x = 'HomePlanet'\n",
        "# y = cantidade de personas que fueron VIP\n",
        "# rote los labels a 45°\n",
        "\n",
        "%matplotlib inline\n",
        "import matplotlib.pyplot as plt\n",
        "\n",
        "fig, ax = plt.subplots()\n",
        "ax.bar(home_planet_vs_vip.index.get_level_values('HomePlanet'), home_planet_vs_vip.values)\n",
        "ax.set_xticklabels(home_planet_vs_vip.index.get_level_values('HomePlanet'), rotation=45)\n",
        "ax.set_ylabel(\"How many of Each Planet are VIP people\")\n",
        "plt.show()\n"
      ]
    },
    {
      "attachments": {},
      "cell_type": "markdown",
      "id": "058dfa54",
      "metadata": {
        "id": "058dfa54"
      },
      "source": [
        "agrupacion por edad"
      ]
    },
    {
      "cell_type": "code",
      "execution_count": 39,
      "id": "f564b202",
      "metadata": {
        "colab": {
          "base_uri": "https://localhost:8080/"
        },
        "id": "f564b202",
        "outputId": "e8d4407d-35e6-4a94-aa94-0f307f8746c9"
      },
      "outputs": [
        {
          "name": "stdout",
          "output_type": "stream",
          "text": [
            "      RoomService  FoodCourt  ShoppingMall     Spa  VRDeck\n",
            "Age                                                       \n",
            "0.0           0.0        0.0           0.0     0.0     0.0\n",
            "1.0           0.0        0.0           0.0     0.0     0.0\n",
            "2.0           0.0        0.0           0.0     0.0     0.0\n",
            "3.0           0.0        0.0           0.0     0.0     0.0\n",
            "4.0           0.0        0.0           0.0     0.0     0.0\n",
            "...           ...        ...           ...     ...     ...\n",
            "74.0        568.0       17.0           0.0     0.0     1.0\n",
            "75.0        940.0        0.0           0.0  1188.0    60.0\n",
            "77.0          0.0        0.0          64.0   712.0     0.0\n",
            "78.0          0.0        0.0           0.0     0.0     0.0\n",
            "79.0          0.0       53.0         881.0    11.0  1568.0\n",
            "\n",
            "[79 rows x 5 columns]\n"
          ]
        },
        {
          "name": "stderr",
          "output_type": "stream",
          "text": [
            "C:\\Users\\gabyt\\AppData\\Local\\Temp\\ipykernel_2536\\148399653.py:1: FutureWarning: Indexing with multiple keys (implicitly converted to a tuple of keys) will be deprecated, use a list instead.\n",
            "  gastos_edad = test_ds.groupby('Age')['RoomService', 'FoodCourt', 'ShoppingMall', 'Spa', 'VRDeck'].sum()\n"
          ]
        }
      ],
      "source": [
        "gastos_edad = test_ds.groupby('Age')['RoomService', 'FoodCourt', 'ShoppingMall', 'Spa', 'VRDeck'].sum()\n",
        "print(gastos_edad)\n"
      ]
    },
    {
      "attachments": {},
      "cell_type": "markdown",
      "id": "6a302660",
      "metadata": {
        "id": "6a302660"
      },
      "source": [
        "Realizamos un gráfico de dispersión para ver cuanto gastan por edad"
      ]
    },
    {
      "cell_type": "code",
      "execution_count": 40,
      "id": "012051c5",
      "metadata": {
        "colab": {
          "base_uri": "https://localhost:8080/",
          "height": 542
        },
        "id": "012051c5",
        "outputId": "fe279465-e5f9-4a43-b177-735a03e64e93"
      },
      "outputs": [
        {
          "data": {
            "image/png": "[encoded data removed]",
            "text/plain": [
              "<Figure size 1000x600 with 1 Axes>"
            ]
          },
          "metadata": {},
          "output_type": "display_data"
        }
      ],
      "source": [
        "fig, ax = plt.subplots(figsize=(10,6))\n",
        "for i in range(len(gastos_edad.columns)-2):\n",
        "    ax.scatter(gastos_edad.index, gastos_edad.iloc[:, i], alpha=0.8)\n",
        "    ax.legend(gastos_edad.columns[:-2])\n",
        "ax.set_xlabel(\"Age\")\n",
        "ax.set_xticks(ticks=range(0, 80), minor=True)\n",
        "ax.set_ylabel(\"Quantity of Money Spent\")\n",
        "ax.grid()\n",
        "\n",
        "plt.show()\n"
      ]
    },
    {
      "attachments": {},
      "cell_type": "markdown",
      "id": "e5f00dda",
      "metadata": {
        "id": "e5f00dda"
      },
      "source": [
        "Histograma"
      ]
    },
    {
      "cell_type": "code",
      "execution_count": 22,
      "id": "361a58ce",
      "metadata": {
        "colab": {
          "base_uri": "https://localhost:8080/",
          "height": 449
        },
        "id": "361a58ce",
        "outputId": "0203e8ae-9d05-4564-96eb-dd09afb40126"
      },
      "outputs": [
        {
          "data": {
            "image/png": "[encoded data removed]",
            "text/plain": [
              "<Figure size 640x480 with 1 Axes>"
            ]
          },
          "metadata": {},
          "output_type": "display_data"
        }
      ],
      "source": [
        "# realice un grafico de histograma para los destinos versus las características\n",
        "fig, ax = plt.subplots()\n",
        "ax.hist(train_ds['Destination'], label=\"Destination\", color='gray')\n",
        "ax.set_xlabel(\"Destination\")\n",
        "ax.set_ylabel(\"# of observations\")\n",
        "ax.legend()\n",
        "plt.show()\n"
      ]
    },
    {
      "attachments": {},
      "cell_type": "markdown",
      "id": "8e2976d3",
      "metadata": {
        "id": "8e2976d3"
      },
      "source": [
        "### Machine Learning"
      ]
    },
    {
      "cell_type": "code",
      "execution_count": 24,
      "id": "43fc9cdd",
      "metadata": {
        "id": "43fc9cdd"
      },
      "outputs": [],
      "source": [
        "from sklearn.preprocessing import OneHotEncoder"
      ]
    },
    {
      "cell_type": "code",
      "execution_count": 25,
      "id": "f499e087",
      "metadata": {
        "id": "f499e087"
      },
      "outputs": [],
      "source": [
        "def column_transform(df, categorical_columns):\n",
        "    for col in categorical_columns:\n",
        "        col_ohe = pd.get_dummies(df[col], prefix=col)\n",
        "        df = pd.concat((df, col_ohe), axis=1).drop(col, axis=1)\n",
        "    return df"
      ]
    },
    {
      "cell_type": "code",
      "execution_count": 26,
      "id": "00ce7d19",
      "metadata": {
        "colab": {
          "base_uri": "https://localhost:8080/",
          "height": 183
        },
        "id": "00ce7d19",
        "outputId": "031dc828-c541-4214-cf0f-58185e2a2246"
      },
      "outputs": [
        {
          "name": "stdout",
          "output_type": "stream",
          "text": [
            "  PassengerId  CryoSleep  Cabin   Age    VIP  RoomService  FoodCourt  \\\n",
            "0     0001_01      False  B/0/P  39.0  False          0.0        0.0   \n",
            "1     0002_01      False  F/0/S  24.0  False        109.0        9.0   \n",
            "2     0003_01      False  A/0/S  58.0   True         43.0     3576.0   \n",
            "3     0003_02      False  A/0/S  33.0  False          0.0     1283.0   \n",
            "4     0004_01      False  F/1/S  16.0  False        303.0       70.0   \n",
            "\n",
            "   ShoppingMall     Spa  VRDeck               Name  Transported  \\\n",
            "0           0.0     0.0     0.0    Maham Ofracculy        False   \n",
            "1          25.0   549.0    44.0       Juanna Vines         True   \n",
            "2           0.0  6715.0    49.0      Altark Susent        False   \n",
            "3         371.0  3329.0   193.0       Solam Susent        False   \n",
            "4         151.0   565.0     2.0  Willy Santantines         True   \n",
            "\n",
            "   HomePlanet_Earth  HomePlanet_Europa  HomePlanet_Mars  \\\n",
            "0                 0                  1                0   \n",
            "1                 1                  0                0   \n",
            "2                 0                  1                0   \n",
            "3                 0                  1                0   \n",
            "4                 1                  0                0   \n",
            "\n",
            "   Destination_55 Cancri e  Destination_PSO J318.5-22  Destination_TRAPPIST-1e  \n",
            "0                        0                          0                        1  \n",
            "1                        0                          0                        1  \n",
            "2                        0                          0                        1  \n",
            "3                        0                          0                        1  \n",
            "4                        0                          0                        1  \n"
          ]
        }
      ],
      "source": [
        "train_ds_ohe = column_transform(df=train_ds, categorical_columns=['HomePlanet', 'Destination'])\n",
        "print(train_ds_ohe.head())"
      ]
    },
    {
      "cell_type": "code",
      "execution_count": 27,
      "id": "bcc805b4",
      "metadata": {
        "id": "bcc805b4"
      },
      "outputs": [],
      "source": [
        "X = train_ds_ohe.drop(['PassengerId', 'Cabin', 'Name', 'Transported'], axis=1)\n",
        "\n",
        "y = train_ds_ohe['Transported']"
      ]
    },
    {
      "cell_type": "code",
      "execution_count": 28,
      "id": "df02553d",
      "metadata": {
        "id": "df02553d"
      },
      "outputs": [],
      "source": [
        "from sklearn.linear_model import SGDClassifier\n",
        "from sklearn.preprocessing import StandardScaler\n",
        "from sklearn.pipeline import make_pipeline"
      ]
    },
    {
      "attachments": {},
      "cell_type": "markdown",
      "id": "69826fb8",
      "metadata": {
        "id": "69826fb8"
      },
      "source": [
        "Realizamos un clasificador"
      ]
    },
    {
      "cell_type": "code",
      "execution_count": 29,
      "id": "eec38610",
      "metadata": {
        "id": "eec38610",
        "outputId": "4707c98b-0094-4ab0-a96d-f415f74e1116"
      },
      "outputs": [
        {
          "data": {
            "text/html": [
              "<style>#sk-container-id-1 {color: black;background-color: white;}#sk-container-id-1 pre{padding: 0;}#sk-container-id-1 div.sk-toggleable {background-color: white;}#sk-container-id-1 label.sk-toggleable__label {cursor: pointer;display: block;width: 100%;margin-bottom: 0;padding: 0.3em;box-sizing: border-box;text-align: center;}#sk-container-id-1 label.sk-toggleable__label-arrow:before {content: \"▸\";float: left;margin-right: 0.25em;color: #696969;}#sk-container-id-1 label.sk-toggleable__label-arrow:hover:before {color: black;}#sk-container-id-1 div.sk-estimator:hover label.sk-toggleable__label-arrow:before {color: black;}#sk-container-id-1 div.sk-toggleable__content {max-height: 0;max-width: 0;overflow: hidden;text-align: left;background-color: #f0f8ff;}#sk-container-id-1 div.sk-toggleable__content pre {margin: 0.2em;color: black;border-radius: 0.25em;background-color: #f0f8ff;}#sk-container-id-1 input.sk-toggleable__control:checked~div.sk-toggleable__content {max-height: 200px;max-width: 100%;overflow: auto;}#sk-container-id-1 input.sk-toggleable__control:checked~label.sk-toggleable__label-arrow:before {content: \"▾\";}#sk-container-id-1 div.sk-estimator input.sk-toggleable__control:checked~label.sk-toggleable__label {background-color: #d4ebff;}#sk-container-id-1 div.sk-label input.sk-toggleable__control:checked~label.sk-toggleable__label {background-color: #d4ebff;}#sk-container-id-1 input.sk-hidden--visually {border: 0;clip: rect(1px 1px 1px 1px);clip: rect(1px, 1px, 1px, 1px);height: 1px;margin: -1px;overflow: hidden;padding: 0;position: absolute;width: 1px;}#sk-container-id-1 div.sk-estimator {font-family: monospace;background-color: #f0f8ff;border: 1px dotted black;border-radius: 0.25em;box-sizing: border-box;margin-bottom: 0.5em;}#sk-container-id-1 div.sk-estimator:hover {background-color: #d4ebff;}#sk-container-id-1 div.sk-parallel-item::after {content: \"\";width: 100%;border-bottom: 1px solid gray;flex-grow: 1;}#sk-container-id-1 div.sk-label:hover label.sk-toggleable__label {background-color: #d4ebff;}#sk-container-id-1 div.sk-serial::before {content: \"\";position: absolute;border-left: 1px solid gray;box-sizing: border-box;top: 0;bottom: 0;left: 50%;z-index: 0;}#sk-container-id-1 div.sk-serial {display: flex;flex-direction: column;align-items: center;background-color: white;padding-right: 0.2em;padding-left: 0.2em;position: relative;}#sk-container-id-1 div.sk-item {position: relative;z-index: 1;}#sk-container-id-1 div.sk-parallel {display: flex;align-items: stretch;justify-content: center;background-color: white;position: relative;}#sk-container-id-1 div.sk-item::before, #sk-container-id-1 div.sk-parallel-item::before {content: \"\";position: absolute;border-left: 1px solid gray;box-sizing: border-box;top: 0;bottom: 0;left: 50%;z-index: -1;}#sk-container-id-1 div.sk-parallel-item {display: flex;flex-direction: column;z-index: 1;position: relative;background-color: white;}#sk-container-id-1 div.sk-parallel-item:first-child::after {align-self: flex-end;width: 50%;}#sk-container-id-1 div.sk-parallel-item:last-child::after {align-self: flex-start;width: 50%;}#sk-container-id-1 div.sk-parallel-item:only-child::after {width: 0;}#sk-container-id-1 div.sk-dashed-wrapped {border: 1px dashed gray;margin: 0 0.4em 0.5em 0.4em;box-sizing: border-box;padding-bottom: 0.4em;background-color: white;}#sk-container-id-1 div.sk-label label {font-family: monospace;font-weight: bold;display: inline-block;line-height: 1.2em;}#sk-container-id-1 div.sk-label-container {text-align: center;}#sk-container-id-1 div.sk-container {/* jupyter's `normalize.less` sets `[hidden] { display: none; }` but bootstrap.min.css set `[hidden] { display: none !important; }` so we also need the `!important` here to be able to override the default hidden behavior on the sphinx rendered scikit-learn.org. See: https://github.com/scikit-learn/scikit-learn/issues/21755 */display: inline-block !important;position: relative;}#sk-container-id-1 div.sk-text-repr-fallback {display: none;}</style><div id=\"sk-container-id-1\" class=\"sk-top-container\"><div class=\"sk-text-repr-fallback\"><pre>Pipeline(steps=[(&#x27;standardscaler&#x27;, StandardScaler()),\n",
              "                (&#x27;sgdclassifier&#x27;, SGDClassifier())])</pre><b>In a Jupyter environment, please rerun this cell to show the HTML representation or trust the notebook. <br />On GitHub, the HTML representation is unable to render, please try loading this page with nbviewer.org.</b></div><div class=\"sk-container\" hidden><div class=\"sk-item sk-dashed-wrapped\"><div class=\"sk-label-container\"><div class=\"sk-label sk-toggleable\"><input class=\"sk-toggleable__control sk-hidden--visually\" id=\"sk-estimator-id-1\" type=\"checkbox\" ><label for=\"sk-estimator-id-1\" class=\"sk-toggleable__label sk-toggleable__label-arrow\">Pipeline</label><div class=\"sk-toggleable__content\"><pre>Pipeline(steps=[(&#x27;standardscaler&#x27;, StandardScaler()),\n",
              "                (&#x27;sgdclassifier&#x27;, SGDClassifier())])</pre></div></div></div><div class=\"sk-serial\"><div class=\"sk-item\"><div class=\"sk-estimator sk-toggleable\"><input class=\"sk-toggleable__control sk-hidden--visually\" id=\"sk-estimator-id-2\" type=\"checkbox\" ><label for=\"sk-estimator-id-2\" class=\"sk-toggleable__label sk-toggleable__label-arrow\">StandardScaler</label><div class=\"sk-toggleable__content\"><pre>StandardScaler()</pre></div></div></div><div class=\"sk-item\"><div class=\"sk-estimator sk-toggleable\"><input class=\"sk-toggleable__control sk-hidden--visually\" id=\"sk-estimator-id-3\" type=\"checkbox\" ><label for=\"sk-estimator-id-3\" class=\"sk-toggleable__label sk-toggleable__label-arrow\">SGDClassifier</label><div class=\"sk-toggleable__content\"><pre>SGDClassifier()</pre></div></div></div></div></div></div></div>"
            ],
            "text/plain": [
              "Pipeline(steps=[('standardscaler', StandardScaler()),\n",
              "                ('sgdclassifier', SGDClassifier())])"
            ]
          },
          "execution_count": 29,
          "metadata": {},
          "output_type": "execute_result"
        }
      ],
      "source": [
        "from sklearn.linear_model import SGDClassifier\n",
        "from sklearn.preprocessing import StandardScaler\n",
        "from sklearn.pipeline import make_pipeline\n",
        "\n",
        "# Llamar a make_pipeline con StandardScaler() y SGDClassifier con max_iter=1000, tol=1e-3\n",
        "clf = make_pipeline(StandardScaler(), SGDClassifier(max_iter=1000, tol=1e-3))\n",
        "\n",
        "# Llamar al método fit() del clasificador para entrenar el modelo\n",
        "clf.fit(X, y)\n"
      ]
    },
    {
      "cell_type": "code",
      "execution_count": 33,
      "id": "a294b4b3",
      "metadata": {
        "id": "a294b4b3"
      },
      "outputs": [],
      "source": [
        "def preprocess_test_set(test_df):\n",
        "    test_df = column_transform(df=test_df, categorical_columns=['HomePlanet','Destination'])\n",
        "    test_df = test_df.drop(['PassengerId', 'Cabin', 'Name'], axis=1)\n",
        "    return impute_most_frequent_data(test_df)"
      ]
    },
    {
      "cell_type": "code",
      "execution_count": 36,
      "id": "66de3f45",
      "metadata": {
        "id": "66de3f45"
      },
      "outputs": [
        {
          "ename": "NameError",
          "evalue": "name 'test_df' is not defined",
          "output_type": "error",
          "traceback": [
            "\u001b[1;31m---------------------------------------------------------------------------\u001b[0m",
            "\u001b[1;31mNameError\u001b[0m                                 Traceback (most recent call last)",
            "Cell \u001b[1;32mIn[36], line 2\u001b[0m\n\u001b[0;32m      1\u001b[0m \u001b[39m# llame la funcion anterior con el test dataset\u001b[39;00m\n\u001b[1;32m----> 2\u001b[0m test_data \u001b[39m=\u001b[39m preprocess_test_set(test_df)\n",
            "\u001b[1;31mNameError\u001b[0m: name 'test_df' is not defined"
          ]
        }
      ],
      "source": [
        "test_data = preprocess_test_set(test_df)"
      ]
    },
    {
      "attachments": {},
      "cell_type": "markdown",
      "id": "414107dc",
      "metadata": {
        "id": "414107dc"
      },
      "source": [
        "predicciones"
      ]
    },
    {
      "cell_type": "code",
      "execution_count": 37,
      "id": "67053935",
      "metadata": {
        "id": "67053935"
      },
      "outputs": [
        {
          "ename": "NameError",
          "evalue": "name 'test_data' is not defined",
          "output_type": "error",
          "traceback": [
            "\u001b[1;31m---------------------------------------------------------------------------\u001b[0m",
            "\u001b[1;31mNameError\u001b[0m                                 Traceback (most recent call last)",
            "Cell \u001b[1;32mIn[37], line 2\u001b[0m\n\u001b[0;32m      1\u001b[0m \u001b[39m# calcule las predicciones del clasificador con el metodo predict\u001b[39;00m\n\u001b[1;32m----> 2\u001b[0m y_pred \u001b[39m=\u001b[39m clf\u001b[39m.\u001b[39mpredict(test_data)\n",
            "\u001b[1;31mNameError\u001b[0m: name 'test_data' is not defined"
          ]
        }
      ],
      "source": [
        "y_pred = clf.predict(test_data)"
      ]
    },
    {
      "attachments": {},
      "cell_type": "markdown",
      "id": "2d8bbf2b",
      "metadata": {
        "id": "2d8bbf2b"
      },
      "source": [
        "llegaron o no las personas (predicciones)"
      ]
    },
    {
      "cell_type": "code",
      "execution_count": 38,
      "id": "bfac300d",
      "metadata": {
        "id": "bfac300d",
        "outputId": "25a0e4c6-e05d-4c9d-e670-a0918f419416"
      },
      "outputs": [
        {
          "ename": "NameError",
          "evalue": "name 'test_data' is not defined",
          "output_type": "error",
          "traceback": [
            "\u001b[1;31m---------------------------------------------------------------------------\u001b[0m",
            "\u001b[1;31mNameError\u001b[0m                                 Traceback (most recent call last)",
            "Cell \u001b[1;32mIn[38], line 6\u001b[0m\n\u001b[0;32m      3\u001b[0m \u001b[39mimport\u001b[39;00m \u001b[39mpandas\u001b[39;00m \u001b[39mas\u001b[39;00m \u001b[39mpd\u001b[39;00m\n\u001b[0;32m      5\u001b[0m \u001b[39m# Crear un DataFrame con las predicciones\u001b[39;00m\n\u001b[1;32m----> 6\u001b[0m predictions_df \u001b[39m=\u001b[39m pd\u001b[39m.\u001b[39mDataFrame({\u001b[39m'\u001b[39m\u001b[39mPassengerId\u001b[39m\u001b[39m'\u001b[39m: test_data[\u001b[39m'\u001b[39m\u001b[39mPassengerId\u001b[39m\u001b[39m'\u001b[39m], \u001b[39m'\u001b[39m\u001b[39mTransported\u001b[39m\u001b[39m'\u001b[39m: y_pred})\n\u001b[0;32m      8\u001b[0m \u001b[39m# Calcular la cantidad de predicciones de pasajeros transportados y no transportados\u001b[39;00m\n\u001b[0;32m      9\u001b[0m count_transported \u001b[39m=\u001b[39m predictions_df[\u001b[39m'\u001b[39m\u001b[39mTransported\u001b[39m\u001b[39m'\u001b[39m]\u001b[39m.\u001b[39msum()\n",
            "\u001b[1;31mNameError\u001b[0m: name 'test_data' is not defined"
          ]
        }
      ],
      "source": [
        "import pandas as pd\n",
        "\n",
        "predictions_df = pd.DataFrame({'PassengerId': test_data['PassengerId'], 'Transported': y_pred})\n",
        "\n",
        "count_transported = predictions_df['Transported'].sum()\n",
        "count_not_transported = len(predictions_df) - count_transported\n",
        "\n",
        "print(\"Cantidad de predicciones de pasajeros transportados:\", count_transported)\n",
        "print(\"Cantidad de predicciones de pasajeros no transportados:\", count_not_transported)\n"
      ]
    }
  ],
  "metadata": {
    "colab": {
      "provenance": []
    },
    "kernelspec": {
      "display_name": "Python 3",
      "language": "python",
      "name": "python3"
    },
    "language_info": {
      "codemirror_mode": {
        "name": "ipython",
        "version": 3
      },
      "file_extension": ".py",
      "mimetype": "text/x-python",
      "name": "python",
      "nbconvert_exporter": "python",
      "pygments_lexer": "ipython3",
      "version": "3.10.11"
    }
  },
  "nbformat": 4,
  "nbformat_minor": 5
}
