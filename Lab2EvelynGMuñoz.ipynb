{
  "cells": [
    {
      "cell_type": "code",
      "execution_count": 6,
      "metadata": {
        "id": "y1nfrbAP6-0n"
      },
      "outputs": [],
      "source": [
        "import os\n",
        "from six.moves import urllib\n",
        "\n",
        "DS_EXTRACT_PATH = \"UsersgabytOneDrive/Documentos/Trabajos UL/2023-2/IA/Bike-Sharing-Dataset.zip\"\n",
        "DS_URL = \"https://archive.ics.uci.edu/ml/machine-learning-databases/00275/Bike-Sharing-Dataset.zip\"\n",
        "\n",
        "def download_dataset(dataset_url=DS_URL, dataset_pc_path=DS_EXTRACT_PATH):\n",
        "    if not os.path.isdir(dataset_pc_path):\n",
        "        os.makedirs(dataset_pc_path)\n",
        "    parts = os.path.split(dataset_url)\n",
        "    zipname = parts[-1]\n",
        "    zip_path = os.path.join(dataset_pc_path, zipname)\n",
        "    urllib.request.urlretrieve(dataset_url, zip_path)"
      ]
    },
    {
      "cell_type": "code",
      "execution_count": 7,
      "metadata": {
        "id": "yGOxqqh76-0p"
      },
      "outputs": [],
      "source": [
        "download_dataset()"
      ]
    },
    {
      "attachments": {},
      "cell_type": "markdown",
      "metadata": {
        "id": "kRLG_hwi6-0r"
      },
      "source": [
        "Descomprimir los datos"
      ]
    },
    {
      "cell_type": "code",
      "execution_count": 17,
      "metadata": {
        "id": "oLyBwTUm6-0s"
      },
      "outputs": [],
      "source": [
        "from zipfile import ZipFile\n",
        "import os\n",
        "\n",
        "def unzip_dataset(dataset_pc_path=\"/UsersgabytOneDrive/Documentos/Trabajos UL/2023-2/IA/Bike-Sharing-Dataset.zip\"):\n",
        "    # Ruta completa del archivo ZIP\n",
        "    zip_path = os.path.join(dataset_pc_path, \"Bike-Sharing-Dataset.zip\")\n",
        "\n",
        "    # Directorio donde se extraerán los archivos\n",
        "    extract_dir = dataset_pc_path\n",
        "\n",
        "    # Descomprimir el archivo ZIP\n",
        "    with ZipFile(zip_path, 'r') as zipObj:\n",
        "        zipObj.extractall(extract_dir)\n",
        "\n",
        "    # Eliminar el archivo ZIP\n",
        "    os.remove(zip_path)\n"
      ]
    },
    {
      "attachments": {},
      "cell_type": "markdown",
      "metadata": {
        "id": "ydfsYM_T6-0u"
      },
      "source": [
        "Cargar y explorar el dataset\n",
        "hour.csv"
      ]
    },
    {
      "attachments": {},
      "cell_type": "markdown",
      "metadata": {
        "id": "S43F12uq6-0u"
      },
      "source": [
        "dataset con pandas"
      ]
    },
    {
      "cell_type": "code",
      "execution_count": 1,
      "metadata": {
        "id": "ih9_DAuT6-0u"
      },
      "outputs": [],
      "source": [
        "import pandas as pd\n",
        "import os\n",
        "\n",
        "def load_bike_hourly_data(bike_dataset_path=\"/Users/gabyt/OneDrive/Documentos/Trabajos UL/2023-2/IA/Bike-Sharing-Dataset\"):\n",
        " \n",
        "    csv_path = os.path.join(bike_dataset_path, \"/Users/gabyt/OneDrive/Documentos/Trabajos UL/2023-2/IA/Bike-Sharing-Dataset/hour.csv\")\n",
        "\n",
        "    df = pd.read_csv(csv_path)\n",
        "\n",
        "    return df\n",
        "\n"
      ]
    },
    {
      "attachments": {},
      "cell_type": "markdown",
      "metadata": {
        "id": "15Na_y8g6-0v"
      },
      "source": [
        "primeras 48 filas"
      ]
    },
    {
      "cell_type": "code",
      "execution_count": 19,
      "metadata": {
        "colab": {
          "base_uri": "https://localhost:8080/"
        },
        "id": "oYuSYMip6-0v",
        "outputId": "94da82f9-462a-4eae-85e7-621328149025",
        "scrolled": false
      },
      "outputs": [
        {
          "name": "stdout",
          "output_type": "stream",
          "text": [
            "    instant      dteday  season  yr  mnth  hr  holiday  weekday  workingday  \\\n",
            "0         1  2011-01-01       1   0     1   0        0        6           0   \n",
            "1         2  2011-01-01       1   0     1   1        0        6           0   \n",
            "2         3  2011-01-01       1   0     1   2        0        6           0   \n",
            "3         4  2011-01-01       1   0     1   3        0        6           0   \n",
            "4         5  2011-01-01       1   0     1   4        0        6           0   \n",
            "5         6  2011-01-01       1   0     1   5        0        6           0   \n",
            "6         7  2011-01-01       1   0     1   6        0        6           0   \n",
            "7         8  2011-01-01       1   0     1   7        0        6           0   \n",
            "8         9  2011-01-01       1   0     1   8        0        6           0   \n",
            "9        10  2011-01-01       1   0     1   9        0        6           0   \n",
            "10       11  2011-01-01       1   0     1  10        0        6           0   \n",
            "11       12  2011-01-01       1   0     1  11        0        6           0   \n",
            "12       13  2011-01-01       1   0     1  12        0        6           0   \n",
            "13       14  2011-01-01       1   0     1  13        0        6           0   \n",
            "14       15  2011-01-01       1   0     1  14        0        6           0   \n",
            "15       16  2011-01-01       1   0     1  15        0        6           0   \n",
            "16       17  2011-01-01       1   0     1  16        0        6           0   \n",
            "17       18  2011-01-01       1   0     1  17        0        6           0   \n",
            "18       19  2011-01-01       1   0     1  18        0        6           0   \n",
            "19       20  2011-01-01       1   0     1  19        0        6           0   \n",
            "20       21  2011-01-01       1   0     1  20        0        6           0   \n",
            "21       22  2011-01-01       1   0     1  21        0        6           0   \n",
            "22       23  2011-01-01       1   0     1  22        0        6           0   \n",
            "23       24  2011-01-01       1   0     1  23        0        6           0   \n",
            "24       25  2011-01-02       1   0     1   0        0        0           0   \n",
            "25       26  2011-01-02       1   0     1   1        0        0           0   \n",
            "26       27  2011-01-02       1   0     1   2        0        0           0   \n",
            "27       28  2011-01-02       1   0     1   3        0        0           0   \n",
            "28       29  2011-01-02       1   0     1   4        0        0           0   \n",
            "29       30  2011-01-02       1   0     1   6        0        0           0   \n",
            "30       31  2011-01-02       1   0     1   7        0        0           0   \n",
            "31       32  2011-01-02       1   0     1   8        0        0           0   \n",
            "32       33  2011-01-02       1   0     1   9        0        0           0   \n",
            "33       34  2011-01-02       1   0     1  10        0        0           0   \n",
            "34       35  2011-01-02       1   0     1  11        0        0           0   \n",
            "35       36  2011-01-02       1   0     1  12        0        0           0   \n",
            "36       37  2011-01-02       1   0     1  13        0        0           0   \n",
            "37       38  2011-01-02       1   0     1  14        0        0           0   \n",
            "38       39  2011-01-02       1   0     1  15        0        0           0   \n",
            "39       40  2011-01-02       1   0     1  16        0        0           0   \n",
            "40       41  2011-01-02       1   0     1  17        0        0           0   \n",
            "41       42  2011-01-02       1   0     1  18        0        0           0   \n",
            "42       43  2011-01-02       1   0     1  19        0        0           0   \n",
            "43       44  2011-01-02       1   0     1  20        0        0           0   \n",
            "44       45  2011-01-02       1   0     1  21        0        0           0   \n",
            "45       46  2011-01-02       1   0     1  22        0        0           0   \n",
            "46       47  2011-01-02       1   0     1  23        0        0           0   \n",
            "47       48  2011-01-03       1   0     1   0        0        1           1   \n",
            "\n",
            "    weathersit  temp   atemp   hum  windspeed  casual  registered  cnt  \n",
            "0            1  0.24  0.2879  0.81     0.0000       3          13   16  \n",
            "1            1  0.22  0.2727  0.80     0.0000       8          32   40  \n",
            "2            1  0.22  0.2727  0.80     0.0000       5          27   32  \n",
            "3            1  0.24  0.2879  0.75     0.0000       3          10   13  \n",
            "4            1  0.24  0.2879  0.75     0.0000       0           1    1  \n",
            "5            2  0.24  0.2576  0.75     0.0896       0           1    1  \n",
            "6            1  0.22  0.2727  0.80     0.0000       2           0    2  \n",
            "7            1  0.20  0.2576  0.86     0.0000       1           2    3  \n",
            "8            1  0.24  0.2879  0.75     0.0000       1           7    8  \n",
            "9            1  0.32  0.3485  0.76     0.0000       8           6   14  \n",
            "10           1  0.38  0.3939  0.76     0.2537      12          24   36  \n",
            "11           1  0.36  0.3333  0.81     0.2836      26          30   56  \n",
            "12           1  0.42  0.4242  0.77     0.2836      29          55   84  \n",
            "13           2  0.46  0.4545  0.72     0.2985      47          47   94  \n",
            "14           2  0.46  0.4545  0.72     0.2836      35          71  106  \n",
            "15           2  0.44  0.4394  0.77     0.2985      40          70  110  \n",
            "16           2  0.42  0.4242  0.82     0.2985      41          52   93  \n",
            "17           2  0.44  0.4394  0.82     0.2836      15          52   67  \n",
            "18           3  0.42  0.4242  0.88     0.2537       9          26   35  \n",
            "19           3  0.42  0.4242  0.88     0.2537       6          31   37  \n",
            "20           2  0.40  0.4091  0.87     0.2537      11          25   36  \n",
            "21           2  0.40  0.4091  0.87     0.1940       3          31   34  \n",
            "22           2  0.40  0.4091  0.94     0.2239      11          17   28  \n",
            "23           2  0.46  0.4545  0.88     0.2985      15          24   39  \n",
            "24           2  0.46  0.4545  0.88     0.2985       4          13   17  \n",
            "25           2  0.44  0.4394  0.94     0.2537       1          16   17  \n",
            "26           2  0.42  0.4242  1.00     0.2836       1           8    9  \n",
            "27           2  0.46  0.4545  0.94     0.1940       2           4    6  \n",
            "28           2  0.46  0.4545  0.94     0.1940       2           1    3  \n",
            "29           3  0.42  0.4242  0.77     0.2985       0           2    2  \n",
            "30           2  0.40  0.4091  0.76     0.1940       0           1    1  \n",
            "31           3  0.40  0.4091  0.71     0.2239       0           8    8  \n",
            "32           2  0.38  0.3939  0.76     0.2239       1          19   20  \n",
            "33           2  0.36  0.3485  0.81     0.2239       7          46   53  \n",
            "34           2  0.36  0.3333  0.71     0.2537      16          54   70  \n",
            "35           2  0.36  0.3333  0.66     0.2985      20          73   93  \n",
            "36           2  0.36  0.3485  0.66     0.1343      11          64   75  \n",
            "37           3  0.36  0.3485  0.76     0.1940       4          55   59  \n",
            "38           3  0.34  0.3333  0.81     0.1642      19          55   74  \n",
            "39           3  0.34  0.3333  0.71     0.1642       9          67   76  \n",
            "40           1  0.34  0.3333  0.57     0.1940       7          58   65  \n",
            "41           2  0.36  0.3333  0.46     0.3284      10          43   53  \n",
            "42           1  0.32  0.2879  0.42     0.4478       1          29   30  \n",
            "43           1  0.30  0.2727  0.39     0.3582       5          17   22  \n",
            "44           1  0.26  0.2273  0.44     0.3284      11          20   31  \n",
            "45           1  0.24  0.2121  0.44     0.2985       0           9    9  \n",
            "46           1  0.22  0.2273  0.47     0.1642       0           8    8  \n",
            "47           1  0.22  0.1970  0.44     0.3582       0           5    5  \n"
          ]
        }
      ],
      "source": [
        "bike_data = load_bike_hourly_data()\n",
        "print(bike_data.head(48))\n"
      ]
    },
    {
      "attachments": {},
      "cell_type": "markdown",
      "metadata": {
        "id": "NfOdkReb6-0w"
      },
      "source": [
        "Despliegue de información escencial del dataset"
      ]
    },
    {
      "cell_type": "code",
      "execution_count": 20,
      "metadata": {
        "colab": {
          "base_uri": "https://localhost:8080/"
        },
        "id": "pjZ1LG8E6-0w",
        "outputId": "78bc38e5-ad68-4169-9a17-751fd8560032",
        "scrolled": false
      },
      "outputs": [
        {
          "name": "stdout",
          "output_type": "stream",
          "text": [
            "<class 'pandas.core.frame.DataFrame'>\n",
            "RangeIndex: 17379 entries, 0 to 17378\n",
            "Data columns (total 17 columns):\n",
            " #   Column      Non-Null Count  Dtype  \n",
            "---  ------      --------------  -----  \n",
            " 0   instant     17379 non-null  int64  \n",
            " 1   dteday      17379 non-null  object \n",
            " 2   season      17379 non-null  int64  \n",
            " 3   yr          17379 non-null  int64  \n",
            " 4   mnth        17379 non-null  int64  \n",
            " 5   hr          17379 non-null  int64  \n",
            " 6   holiday     17379 non-null  int64  \n",
            " 7   weekday     17379 non-null  int64  \n",
            " 8   workingday  17379 non-null  int64  \n",
            " 9   weathersit  17379 non-null  int64  \n",
            " 10  temp        17379 non-null  float64\n",
            " 11  atemp       17379 non-null  float64\n",
            " 12  hum         17379 non-null  float64\n",
            " 13  windspeed   17379 non-null  float64\n",
            " 14  casual      17379 non-null  int64  \n",
            " 15  registered  17379 non-null  int64  \n",
            " 16  cnt         17379 non-null  int64  \n",
            "dtypes: float64(4), int64(12), object(1)\n",
            "memory usage: 2.3+ MB\n"
          ]
        }
      ],
      "source": [
        "bike_data.info()"
      ]
    },
    {
      "cell_type": "code",
      "execution_count": 2,
      "metadata": {
        "colab": {
          "base_uri": "https://localhost:8080/",
          "height": 547
        },
        "id": "TwgWUj636-0y",
        "outputId": "cc49ae84-6cc5-4c44-e561-83e2f07f14cf",
        "scrolled": true
      },
      "outputs": [
        {
          "ename": "NameError",
          "evalue": "name 'bike_data' is not defined",
          "output_type": "error",
          "traceback": [
            "\u001b[1;31m---------------------------------------------------------------------------\u001b[0m",
            "\u001b[1;31mNameError\u001b[0m                                 Traceback (most recent call last)",
            "Cell \u001b[1;32mIn[2], line 4\u001b[0m\n\u001b[0;32m      1\u001b[0m \u001b[39mimport\u001b[39;00m \u001b[39mmatplotlib\u001b[39;00m\u001b[39m.\u001b[39;00m\u001b[39mpyplot\u001b[39;00m \u001b[39mas\u001b[39;00m \u001b[39mplt\u001b[39;00m\n\u001b[1;32m----> 4\u001b[0m first_10_days \u001b[39m=\u001b[39m bike_data[:\u001b[39m240\u001b[39m]\n\u001b[0;32m      7\u001b[0m plt\u001b[39m.\u001b[39mfigure(figsize\u001b[39m=\u001b[39m(\u001b[39m12\u001b[39m, \u001b[39m6\u001b[39m))\n\u001b[0;32m      8\u001b[0m plt\u001b[39m.\u001b[39mplot(first_10_days[\u001b[39m'\u001b[39m\u001b[39mdteday\u001b[39m\u001b[39m'\u001b[39m], first_10_days[\u001b[39m'\u001b[39m\u001b[39mcnt\u001b[39m\u001b[39m'\u001b[39m])\n",
            "\u001b[1;31mNameError\u001b[0m: name 'bike_data' is not defined"
          ]
        }
      ],
      "source": [
        "import matplotlib.pyplot as plt\n",
        "\n",
        "\n",
        "first_10_days = bike_data[:240]\n",
        "\n",
        "\n",
        "plt.figure(figsize=(12, 6))\n",
        "plt.plot(first_10_days['dteday'], first_10_days['cnt'])\n",
        "plt.xlabel('Fecha')\n",
        "plt.ylabel('Número de manejadores de bicicleta')\n",
        "plt.title('Número de manejadores de bicicleta en los primeros 10 días')\n",
        "plt.xticks(rotation=45)\n",
        "plt.grid(True)\n",
        "plt.show()\n"
      ]
    },
    {
      "attachments": {},
      "cell_type": "markdown",
      "metadata": {
        "id": "mwCJYp0l6-0y"
      },
      "source": [
        "distribución del dataset\n"
      ]
    },
    {
      "cell_type": "code",
      "execution_count": 22,
      "metadata": {
        "colab": {
          "base_uri": "https://localhost:8080/",
          "height": 565
        },
        "id": "CXgNcDt56-0z",
        "outputId": "62e005aa-c468-4ef4-b233-07776aeef273"
      },
      "outputs": [
        {
          "data": {
            "image/png": "[encoded data removed]",
            "text/plain": [
              "<Figure size 1000x600 with 1 Axes>"
            ]
          },
          "metadata": {},
          "output_type": "display_data"
        }
      ],
      "source": [
        "import matplotlib.pyplot as plt\n",
        "\n",
        "first_10_days = bike_data[:240]\n",
        "\n",
        "plt.figure(figsize=(10, 6))\n",
        "plt.hist(first_10_days['cnt'], bins=20, edgecolor='black')\n",
        "plt.xlabel('Número de manejadores de bicicleta')\n",
        "plt.ylabel('Frecuencia')\n",
        "plt.title('Distribución del número de manejadores de bicicleta en los primeros 10 días')\n",
        "plt.grid(True)\n",
        "plt.show()\n"
      ]
    },
    {
      "cell_type": "code",
      "execution_count": null,
      "metadata": {
        "id": "16oNZBfg6-0z"
      },
      "outputs": [],
      "source": [
        "dummy_columns = ['season', 'weathersit', 'mnth', 'hr', 'weekday']\n",
        "\n",
        "dummy_data = pd.get_dummies(bike_data, columns=dummy_columns)\n",
        "\n",
        "columns_to_drop = ['instant', 'dteday', 'season', 'weathersit', 'weekday', 'atemp', 'mnth', 'workingday', 'hr']\n",
        "\n",
        "processed_data = dummy_data.drop(columns_to_drop, axis=1)"
      ]
    },
    {
      "attachments": {},
      "cell_type": "markdown",
      "metadata": {
        "id": "Vj7dRcb06-00"
      },
      "source": [
        "escalar el Dataset"
      ]
    },
    {
      "cell_type": "code",
      "execution_count": 24,
      "metadata": {
        "id": "AhPbwiDl6-01"
      },
      "outputs": [
        {
          "ename": "NameError",
          "evalue": "name 'processed_data' is not defined",
          "output_type": "error",
          "traceback": [
            "\u001b[1;31m---------------------------------------------------------------------------\u001b[0m",
            "\u001b[1;31mNameError\u001b[0m                                 Traceback (most recent call last)",
            "Cell \u001b[1;32mIn[24], line 7\u001b[0m\n\u001b[0;32m      4\u001b[0m scaled_features \u001b[39m=\u001b[39m {}\n\u001b[0;32m      6\u001b[0m \u001b[39mfor\u001b[39;00m each \u001b[39min\u001b[39;00m to_scale:\n\u001b[1;32m----> 7\u001b[0m     mean, std \u001b[39m=\u001b[39m processed_data[each]\u001b[39m.\u001b[39mmean(), processed_data[each]\u001b[39m.\u001b[39mstd()\n\u001b[0;32m      8\u001b[0m     scaled_features[each] \u001b[39m=\u001b[39m [mean, std]\n\u001b[0;32m      9\u001b[0m     processed_data\u001b[39m.\u001b[39mloc[:, each] \u001b[39m=\u001b[39m (processed_data[each] \u001b[39m-\u001b[39m mean) \u001b[39m/\u001b[39m std\n",
            "\u001b[1;31mNameError\u001b[0m: name 'processed_data' is not defined"
          ]
        }
      ],
      "source": [
        "to_scale = ['casual', 'registered', 'cnt', 'temp', 'hum', 'windspeed']\n",
        "\n",
        "scaled_features = {}\n",
        "\n",
        "for each in to_scale:\n",
        "    mean, std = processed_data[each].mean(), processed_data[each].std()\n",
        "    scaled_features[each] = [mean, std]\n",
        "    processed_data.loc[:, each] = (processed_data[each] - mean) / std\n"
      ]
    },
    {
      "attachments": {},
      "cell_type": "markdown",
      "metadata": {
        "id": "NsyG8mHM6-01"
      },
      "source": [
        "Separar el dataset en Training y Test\n"
      ]
    },
    {
      "cell_type": "code",
      "execution_count": 25,
      "metadata": {
        "id": "Ajqy82Qh6-02"
      },
      "outputs": [
        {
          "ename": "NameError",
          "evalue": "name 'processed_data' is not defined",
          "output_type": "error",
          "traceback": [
            "\u001b[1;31m---------------------------------------------------------------------------\u001b[0m",
            "\u001b[1;31mNameError\u001b[0m                                 Traceback (most recent call last)",
            "Cell \u001b[1;32mIn[25], line 7\u001b[0m\n\u001b[0;32m      4\u001b[0m campos_test \u001b[39m=\u001b[39m [\u001b[39m'\u001b[39m\u001b[39mcnt\u001b[39m\u001b[39m'\u001b[39m, \u001b[39m'\u001b[39m\u001b[39mcasual\u001b[39m\u001b[39m'\u001b[39m, \u001b[39m'\u001b[39m\u001b[39mregistered\u001b[39m\u001b[39m'\u001b[39m]\n\u001b[0;32m      6\u001b[0m \u001b[39m# Campos de Train\u001b[39;00m\n\u001b[1;32m----> 7\u001b[0m campos_train \u001b[39m=\u001b[39m [col \u001b[39mfor\u001b[39;00m col \u001b[39min\u001b[39;00m processed_data\u001b[39m.\u001b[39mcolumns \u001b[39mif\u001b[39;00m col \u001b[39mnot\u001b[39;00m \u001b[39min\u001b[39;00m campos_test]\n\u001b[0;32m      9\u001b[0m \u001b[39m# Separar los datos en características (X) y variables objetivo (y)\u001b[39;00m\n\u001b[0;32m     10\u001b[0m X \u001b[39m=\u001b[39m processed_data[campos_train]\n",
            "\u001b[1;31mNameError\u001b[0m: name 'processed_data' is not defined"
          ]
        }
      ],
      "source": [
        "from sklearn.model_selection import train_test_split\n",
        "\n",
        "# Campos de Test\n",
        "campos_test = ['cnt', 'casual', 'registered']\n",
        "\n",
        "# Campos de Train\n",
        "campos_train = [col for col in processed_data.columns if col not in campos_test]\n",
        "\n",
        "# Separar los datos en características (X) y variables objetivo (y)\n",
        "X = processed_data[campos_train]\n",
        "y = processed_data[campos_test]\n",
        "\n",
        "# Separar en conjunto de entrenamiento y prueba (80% entrenamiento, 20% prueba)\n",
        "X_train, X_test, y_train, y_test = train_test_split(X, y, test_size=0.2, random_state=42)\n"
      ]
    },
    {
      "attachments": {},
      "cell_type": "markdown",
      "metadata": {
        "id": "LMhmGHPd6-02"
      },
      "source": [
        "Entrenamiento\n"
      ]
    },
    {
      "cell_type": "code",
      "execution_count": 26,
      "metadata": {
        "id": "YR_z12xd6-02",
        "outputId": "ca893b57-b10e-43f4-bd44-4da8a38e26e4"
      },
      "outputs": [
        {
          "ename": "NameError",
          "evalue": "name 'X_train' is not defined",
          "output_type": "error",
          "traceback": [
            "\u001b[1;31m---------------------------------------------------------------------------\u001b[0m",
            "\u001b[1;31mNameError\u001b[0m                                 Traceback (most recent call last)",
            "Cell \u001b[1;32mIn[26], line 8\u001b[0m\n\u001b[0;32m      5\u001b[0m n_jobs \u001b[39m=\u001b[39m \u001b[39m4\u001b[39m\n\u001b[0;32m      6\u001b[0m regressor \u001b[39m=\u001b[39m KNeighborsRegressor(n_neighbors\u001b[39m=\u001b[39mn_neighbors, n_jobs\u001b[39m=\u001b[39mn_jobs)\n\u001b[1;32m----> 8\u001b[0m regressor\u001b[39m.\u001b[39mfit(X_train, y_train)\n\u001b[0;32m     10\u001b[0m y_train_pred \u001b[39m=\u001b[39m regressor\u001b[39m.\u001b[39mpredict(X_train)\n\u001b[0;32m     11\u001b[0m y_test_pred \u001b[39m=\u001b[39m regressor\u001b[39m.\u001b[39mpredict(X_test)\n",
            "\u001b[1;31mNameError\u001b[0m: name 'X_train' is not defined"
          ]
        }
      ],
      "source": [
        "from sklearn.neighbors import KNeighborsRegressor\n",
        "from sklearn.metrics import mean_squared_error\n",
        "\n",
        "n_neighbors = 4\n",
        "n_jobs = 4\n",
        "regressor = KNeighborsRegressor(n_neighbors=n_neighbors, n_jobs=n_jobs)\n",
        "\n",
        "regressor.fit(X_train, y_train)\n",
        "\n",
        "y_train_pred = regressor.predict(X_train)\n",
        "y_test_pred = regressor.predict(X_test)\n",
        "\n",
        "\n",
        "mse = mean_squared_error(y_test, y_test_pred)\n",
        "print(\"Error cuadrático medio en el conjunto de prueba:\", mse)\n"
      ]
    },
    {
      "cell_type": "code",
      "execution_count": 30,
      "metadata": {
        "id": "XSfC0A_C6-03"
      },
      "outputs": [
        {
          "name": "stdout",
          "output_type": "stream",
          "text": [
            "Modelo guardado exitosamente en knn_regressor_model.pkl\n"
          ]
        }
      ],
      "source": [
        "import pickle\n",
        "\n",
        "# Nombre de archivo para guardar el modelo\n",
        "filename = 'knn_regressor_model.pkl'\n",
        "\n",
        "# Guardar el modelo en un archivo\n",
        "pickle.dump(regressor, open(filename, 'wb'))\n",
        "\n",
        "print(\"Modelo guardado exitosamente en\", filename)\n"
      ]
    },
    {
      "attachments": {},
      "cell_type": "markdown",
      "metadata": {
        "id": "IGt8dVJF6-03"
      },
      "source": [
        " Cargar el Modelo\n"
      ]
    },
    {
      "cell_type": "code",
      "execution_count": 31,
      "metadata": {
        "id": "4hBVclqD6-03"
      },
      "outputs": [
        {
          "ename": "NameError",
          "evalue": "name 'X_test' is not defined",
          "output_type": "error",
          "traceback": [
            "\u001b[1;31m---------------------------------------------------------------------------\u001b[0m",
            "\u001b[1;31mNameError\u001b[0m                                 Traceback (most recent call last)",
            "Cell \u001b[1;32mIn[31], line 8\u001b[0m\n\u001b[0;32m      3\u001b[0m filename \u001b[39m=\u001b[39m \u001b[39m'\u001b[39m\u001b[39mknn_regressor_model.pkl\u001b[39m\u001b[39m'\u001b[39m\n\u001b[0;32m      6\u001b[0m loaded_model \u001b[39m=\u001b[39m pickle\u001b[39m.\u001b[39mload(\u001b[39mopen\u001b[39m(filename, \u001b[39m'\u001b[39m\u001b[39mrb\u001b[39m\u001b[39m'\u001b[39m))\n\u001b[1;32m----> 8\u001b[0m predictions \u001b[39m=\u001b[39m loaded_model\u001b[39m.\u001b[39mpredict(X_test)\n\u001b[0;32m     10\u001b[0m \u001b[39mprint\u001b[39m(\u001b[39m\"\u001b[39m\u001b[39mPredicciones del modelo cargado:\u001b[39m\u001b[39m\"\u001b[39m, predictions)\n",
            "\u001b[1;31mNameError\u001b[0m: name 'X_test' is not defined"
          ]
        }
      ],
      "source": [
        "import pickle\n",
        "\n",
        "filename = 'knn_regressor_model.pkl'\n",
        "\n",
        "\n",
        "loaded_model = pickle.load(open(filename, 'rb'))\n",
        "\n",
        "predictions = loaded_model.predict(X_test)\n",
        "\n",
        "print(\"Predicciones del modelo cargado:\", predictions)\n"
      ]
    },
    {
      "attachments": {},
      "cell_type": "markdown",
      "metadata": {
        "id": "Vb7PxPYz6-03"
      },
      "source": [
        "Realizar predicciones"
      ]
    },
    {
      "cell_type": "code",
      "execution_count": 32,
      "metadata": {
        "id": "sJpXcXH36-04"
      },
      "outputs": [
        {
          "ename": "NameError",
          "evalue": "name 'X_test' is not defined",
          "output_type": "error",
          "traceback": [
            "\u001b[1;31m---------------------------------------------------------------------------\u001b[0m",
            "\u001b[1;31mNameError\u001b[0m                                 Traceback (most recent call last)",
            "Cell \u001b[1;32mIn[32], line 2\u001b[0m\n\u001b[0;32m      1\u001b[0m \u001b[39m# Realizar predicciones utilizando el modelo cargado\u001b[39;00m\n\u001b[1;32m----> 2\u001b[0m predictions \u001b[39m=\u001b[39m loaded_model\u001b[39m.\u001b[39mpredict(X_test)\n\u001b[0;32m      4\u001b[0m \u001b[39m# Imprimir las predicciones\u001b[39;00m\n\u001b[0;32m      5\u001b[0m \u001b[39mprint\u001b[39m(\u001b[39m\"\u001b[39m\u001b[39mPredicciones del modelo cargado:\u001b[39m\u001b[39m\"\u001b[39m, predictions)\n",
            "\u001b[1;31mNameError\u001b[0m: name 'X_test' is not defined"
          ]
        }
      ],
      "source": [
        "# Realizar predicciones utilizando el modelo cargado\n",
        "predictions = loaded_model.predict(X_test)\n",
        "\n",
        "# Imprimir las predicciones\n",
        "print(\"Predicciones del modelo cargado:\", predictions)\n"
      ]
    },
    {
      "attachments": {},
      "cell_type": "markdown",
      "metadata": {
        "id": "apnEoqNE6-04"
      },
      "source": [
        "Evaluar el modelo por medio de métricas\n"
      ]
    },
    {
      "cell_type": "code",
      "execution_count": 34,
      "metadata": {
        "id": "tRGvNuMl6-04",
        "outputId": "12a898c5-5848-4083-c4be-28fc54794fdc"
      },
      "outputs": [
        {
          "ename": "NameError",
          "evalue": "name 'y_test' is not defined",
          "output_type": "error",
          "traceback": [
            "\u001b[1;31m---------------------------------------------------------------------------\u001b[0m",
            "\u001b[1;31mNameError\u001b[0m                                 Traceback (most recent call last)",
            "Cell \u001b[1;32mIn[34], line 4\u001b[0m\n\u001b[0;32m      1\u001b[0m \u001b[39mfrom\u001b[39;00m \u001b[39msklearn\u001b[39;00m\u001b[39m.\u001b[39;00m\u001b[39mmetrics\u001b[39;00m \u001b[39mimport\u001b[39;00m mean_squared_error\n\u001b[1;32m----> 4\u001b[0m mse \u001b[39m=\u001b[39m mean_squared_error(y_test, predictions)\n\u001b[0;32m      7\u001b[0m \u001b[39mprint\u001b[39m(\u001b[39m\"\u001b[39m\u001b[39mError medio cuadrado en el conjunto de prueba:\u001b[39m\u001b[39m\"\u001b[39m, mse)\n",
            "\u001b[1;31mNameError\u001b[0m: name 'y_test' is not defined"
          ]
        }
      ],
      "source": [
        "from sklearn.metrics import mean_squared_error\n",
        "\n",
        "\n",
        "mse = mean_squared_error(y_test, predictions)\n",
        "\n",
        "\n",
        "print(\"Error medio cuadrado en el conjunto de prueba:\", mse)\n"
      ]
    },
    {
      "attachments": {},
      "cell_type": "markdown",
      "metadata": {
        "id": "LmFjPBTI6-04"
      },
      "source": [
        "\n",
        "Graficar los resultados de la predicción vs los resultados de las pruebas"
      ]
    },
    {
      "cell_type": "code",
      "execution_count": 4,
      "metadata": {
        "id": "jrFIb2vf6-05",
        "outputId": "d527eb2e-7489-4a53-d849-a6fd1b77ee60",
        "scrolled": false
      },
      "outputs": [
        {
          "ename": "NameError",
          "evalue": "name 'pyplot' is not defined",
          "output_type": "error",
          "traceback": [
            "\u001b[1;31m---------------------------------------------------------------------------\u001b[0m",
            "\u001b[1;31mNameError\u001b[0m                                 Traceback (most recent call last)",
            "Cell \u001b[1;32mIn[4], line 1\u001b[0m\n\u001b[1;32m----> 1\u001b[0m fig, ax \u001b[39m=\u001b[39m pyplot\u001b[39m.\u001b[39msubplots(figsize\u001b[39m=\u001b[39m(\u001b[39m30\u001b[39m,\u001b[39m15\u001b[39m))\n\u001b[0;32m      3\u001b[0m ax\u001b[39m.\u001b[39mplot(prediction[:,\u001b[39m0\u001b[39m], label\u001b[39m=\u001b[39m\u001b[39m'\u001b[39m\u001b[39mPrediction\u001b[39m\u001b[39m'\u001b[39m)\n\u001b[0;32m      4\u001b[0m ax\u001b[39m.\u001b[39mplot(Ytest\u001b[39m.\u001b[39mcnt\u001b[39m.\u001b[39mvalues, label\u001b[39m=\u001b[39m\u001b[39m'\u001b[39m\u001b[39mData\u001b[39m\u001b[39m'\u001b[39m)\n",
            "\u001b[1;31mNameError\u001b[0m: name 'pyplot' is not defined"
          ]
        }
      ],
      "source": [
        "\n",
        "fig, ax = pyplot.subplots(figsize=(30,15))\n",
        "\n",
        "ax.plot(prediction[:,0], label='Prediction')\n",
        "ax.plot(Ytest.cnt.values, label='Data')\n",
        "ax.set_xlim(right=len(prediction))\n",
        "ax.legend()\n",
        "\n",
        "dates = pd.to_datetime(bikeshare.loc[Ytest.index]['dteday'])\n",
        "dates = dates.apply(lambda d: d.strftime('%b %d'))\n",
        "ax.set_xticks(np.arange(len(dates))[12::24])\n",
        "_ = ax.set_xticklabels(dates[12::24], rotation=90)"
      ]
    }
  ],
  "metadata": {
    "colab": {
      "provenance": []
    },
    "kernelspec": {
      "display_name": "Python 3",
      "language": "python",
      "name": "python3"
    },
    "language_info": {
      "codemirror_mode": {
        "name": "ipython",
        "version": 3
      },
      "file_extension": ".py",
      "mimetype": "text/x-python",
      "name": "python",
      "nbconvert_exporter": "python",
      "pygments_lexer": "ipython3",
      "version": "3.10.11"
    },
    "nav_menu": {
      "height": "279px",
      "width": "309px"
    },
    "toc": {
      "nav_menu": {},
      "number_sections": true,
      "sideBar": true,
      "skip_h1_title": false,
      "toc_cell": false,
      "toc_position": {},
      "toc_section_display": "block",
      "toc_window_display": false
    }
  },
  "nbformat": 4,
  "nbformat_minor": 0
}
